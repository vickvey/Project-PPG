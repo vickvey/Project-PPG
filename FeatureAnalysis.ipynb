{
 "cells": [
  {
   "cell_type": "code",
   "execution_count": 1,
   "metadata": {},
   "outputs": [],
   "source": [
    "import pandas as pd"
   ]
  },
  {
   "cell_type": "code",
   "execution_count": 2,
   "metadata": {},
   "outputs": [],
   "source": [
    "features_df = pd.read_csv('features.csv')\n",
    "labels_df = pd.read_csv('labels.csv')"
   ]
  },
  {
   "cell_type": "code",
   "execution_count": 3,
   "metadata": {},
   "outputs": [
    {
     "data": {
      "text/plain": [
       "(102, 93)"
      ]
     },
     "execution_count": 3,
     "metadata": {},
     "output_type": "execute_result"
    }
   ],
   "source": [
    "features_df.shape"
   ]
  },
  {
   "cell_type": "code",
   "execution_count": 4,
   "metadata": {},
   "outputs": [
    {
     "data": {
      "text/plain": [
       "(110, 2)"
      ]
     },
     "execution_count": 4,
     "metadata": {},
     "output_type": "execute_result"
    }
   ],
   "source": [
    "labels_df.shape"
   ]
  },
  {
   "cell_type": "code",
   "execution_count": 5,
   "metadata": {},
   "outputs": [],
   "source": [
    "# Merge on the basis of 'P_Id'\n",
    "data = pd.merge(features_df, labels_df, on='P_Id')"
   ]
  },
  {
   "cell_type": "code",
   "execution_count": 6,
   "metadata": {},
   "outputs": [
    {
     "data": {
      "text/html": [
       "<div>\n",
       "<style scoped>\n",
       "    .dataframe tbody tr th:only-of-type {\n",
       "        vertical-align: middle;\n",
       "    }\n",
       "\n",
       "    .dataframe tbody tr th {\n",
       "        vertical-align: top;\n",
       "    }\n",
       "\n",
       "    .dataframe thead th {\n",
       "        text-align: right;\n",
       "    }\n",
       "</style>\n",
       "<table border=\"1\" class=\"dataframe\">\n",
       "  <thead>\n",
       "    <tr style=\"text-align: right;\">\n",
       "      <th></th>\n",
       "      <th>P_Id</th>\n",
       "      <th>PPG_Rate_Mean</th>\n",
       "      <th>HRV_MeanNN</th>\n",
       "      <th>HRV_SDNN</th>\n",
       "      <th>HRV_SDANN1</th>\n",
       "      <th>HRV_SDNNI1</th>\n",
       "      <th>HRV_SDANN2</th>\n",
       "      <th>HRV_SDNNI2</th>\n",
       "      <th>HRV_SDANN5</th>\n",
       "      <th>HRV_SDNNI5</th>\n",
       "      <th>...</th>\n",
       "      <th>HRV_ShanEn</th>\n",
       "      <th>HRV_FuzzyEn</th>\n",
       "      <th>HRV_MSEn</th>\n",
       "      <th>HRV_CMSEn</th>\n",
       "      <th>HRV_RCMSEn</th>\n",
       "      <th>HRV_CD</th>\n",
       "      <th>HRV_HFD</th>\n",
       "      <th>HRV_KFD</th>\n",
       "      <th>HRV_LZC</th>\n",
       "      <th>anxiety_meter</th>\n",
       "    </tr>\n",
       "  </thead>\n",
       "  <tbody>\n",
       "    <tr>\n",
       "      <th>0</th>\n",
       "      <td>101</td>\n",
       "      <td>72.160656</td>\n",
       "      <td>838.787356</td>\n",
       "      <td>161.144697</td>\n",
       "      <td>NaN</td>\n",
       "      <td>NaN</td>\n",
       "      <td>NaN</td>\n",
       "      <td>NaN</td>\n",
       "      <td>NaN</td>\n",
       "      <td>NaN</td>\n",
       "      <td>...</td>\n",
       "      <td>7.103751</td>\n",
       "      <td>1.291662</td>\n",
       "      <td>1.229793</td>\n",
       "      <td>1.392336</td>\n",
       "      <td>1.912396</td>\n",
       "      <td>1.691472</td>\n",
       "      <td>1.965384</td>\n",
       "      <td>4.166548</td>\n",
       "      <td>1.197715</td>\n",
       "      <td>7.0</td>\n",
       "    </tr>\n",
       "    <tr>\n",
       "      <th>1</th>\n",
       "      <td>102</td>\n",
       "      <td>94.333514</td>\n",
       "      <td>648.155039</td>\n",
       "      <td>196.751139</td>\n",
       "      <td>29.61793</td>\n",
       "      <td>192.373443</td>\n",
       "      <td>NaN</td>\n",
       "      <td>NaN</td>\n",
       "      <td>NaN</td>\n",
       "      <td>NaN</td>\n",
       "      <td>...</td>\n",
       "      <td>7.555224</td>\n",
       "      <td>1.371911</td>\n",
       "      <td>1.174007</td>\n",
       "      <td>1.288954</td>\n",
       "      <td>1.839586</td>\n",
       "      <td>1.707419</td>\n",
       "      <td>1.967041</td>\n",
       "      <td>2.788036</td>\n",
       "      <td>1.117846</td>\n",
       "      <td>16.0</td>\n",
       "    </tr>\n",
       "    <tr>\n",
       "      <th>2</th>\n",
       "      <td>103</td>\n",
       "      <td>91.269287</td>\n",
       "      <td>673.426396</td>\n",
       "      <td>240.470162</td>\n",
       "      <td>NaN</td>\n",
       "      <td>NaN</td>\n",
       "      <td>NaN</td>\n",
       "      <td>NaN</td>\n",
       "      <td>NaN</td>\n",
       "      <td>NaN</td>\n",
       "      <td>...</td>\n",
       "      <td>7.316140</td>\n",
       "      <td>1.471038</td>\n",
       "      <td>1.387296</td>\n",
       "      <td>1.315389</td>\n",
       "      <td>1.876066</td>\n",
       "      <td>1.833765</td>\n",
       "      <td>1.939231</td>\n",
       "      <td>4.690344</td>\n",
       "      <td>1.122028</td>\n",
       "      <td>10.0</td>\n",
       "    </tr>\n",
       "    <tr>\n",
       "      <th>3</th>\n",
       "      <td>104</td>\n",
       "      <td>76.862836</td>\n",
       "      <td>800.455621</td>\n",
       "      <td>295.652405</td>\n",
       "      <td>NaN</td>\n",
       "      <td>NaN</td>\n",
       "      <td>NaN</td>\n",
       "      <td>NaN</td>\n",
       "      <td>NaN</td>\n",
       "      <td>NaN</td>\n",
       "      <td>...</td>\n",
       "      <td>7.143425</td>\n",
       "      <td>1.156025</td>\n",
       "      <td>1.196983</td>\n",
       "      <td>1.302091</td>\n",
       "      <td>1.612782</td>\n",
       "      <td>1.572197</td>\n",
       "      <td>1.974733</td>\n",
       "      <td>2.787734</td>\n",
       "      <td>1.051012</td>\n",
       "      <td>8.0</td>\n",
       "    </tr>\n",
       "    <tr>\n",
       "      <th>4</th>\n",
       "      <td>105</td>\n",
       "      <td>68.409940</td>\n",
       "      <td>918.483221</td>\n",
       "      <td>655.450522</td>\n",
       "      <td>NaN</td>\n",
       "      <td>NaN</td>\n",
       "      <td>NaN</td>\n",
       "      <td>NaN</td>\n",
       "      <td>NaN</td>\n",
       "      <td>NaN</td>\n",
       "      <td>...</td>\n",
       "      <td>7.084940</td>\n",
       "      <td>1.133012</td>\n",
       "      <td>1.458232</td>\n",
       "      <td>1.302750</td>\n",
       "      <td>1.426864</td>\n",
       "      <td>1.427651</td>\n",
       "      <td>1.984928</td>\n",
       "      <td>2.193969</td>\n",
       "      <td>1.162819</td>\n",
       "      <td>15.0</td>\n",
       "    </tr>\n",
       "  </tbody>\n",
       "</table>\n",
       "<p>5 rows × 94 columns</p>\n",
       "</div>"
      ],
      "text/plain": [
       "   P_Id  PPG_Rate_Mean  HRV_MeanNN    HRV_SDNN  HRV_SDANN1  HRV_SDNNI1  \\\n",
       "0   101      72.160656  838.787356  161.144697         NaN         NaN   \n",
       "1   102      94.333514  648.155039  196.751139    29.61793  192.373443   \n",
       "2   103      91.269287  673.426396  240.470162         NaN         NaN   \n",
       "3   104      76.862836  800.455621  295.652405         NaN         NaN   \n",
       "4   105      68.409940  918.483221  655.450522         NaN         NaN   \n",
       "\n",
       "   HRV_SDANN2  HRV_SDNNI2  HRV_SDANN5  HRV_SDNNI5  ...  HRV_ShanEn  \\\n",
       "0         NaN         NaN         NaN         NaN  ...    7.103751   \n",
       "1         NaN         NaN         NaN         NaN  ...    7.555224   \n",
       "2         NaN         NaN         NaN         NaN  ...    7.316140   \n",
       "3         NaN         NaN         NaN         NaN  ...    7.143425   \n",
       "4         NaN         NaN         NaN         NaN  ...    7.084940   \n",
       "\n",
       "   HRV_FuzzyEn  HRV_MSEn  HRV_CMSEn  HRV_RCMSEn    HRV_CD   HRV_HFD   HRV_KFD  \\\n",
       "0     1.291662  1.229793   1.392336    1.912396  1.691472  1.965384  4.166548   \n",
       "1     1.371911  1.174007   1.288954    1.839586  1.707419  1.967041  2.788036   \n",
       "2     1.471038  1.387296   1.315389    1.876066  1.833765  1.939231  4.690344   \n",
       "3     1.156025  1.196983   1.302091    1.612782  1.572197  1.974733  2.787734   \n",
       "4     1.133012  1.458232   1.302750    1.426864  1.427651  1.984928  2.193969   \n",
       "\n",
       "    HRV_LZC  anxiety_meter  \n",
       "0  1.197715            7.0  \n",
       "1  1.117846           16.0  \n",
       "2  1.122028           10.0  \n",
       "3  1.051012            8.0  \n",
       "4  1.162819           15.0  \n",
       "\n",
       "[5 rows x 94 columns]"
      ]
     },
     "execution_count": 6,
     "metadata": {},
     "output_type": "execute_result"
    }
   ],
   "source": [
    "data.head()"
   ]
  },
  {
   "cell_type": "code",
   "execution_count": null,
   "metadata": {},
   "outputs": [],
   "source": []
  }
 ],
 "metadata": {
  "kernelspec": {
   "display_name": ".venv",
   "language": "python",
   "name": "python3"
  },
  "language_info": {
   "codemirror_mode": {
    "name": "ipython",
    "version": 3
   },
   "file_extension": ".py",
   "mimetype": "text/x-python",
   "name": "python",
   "nbconvert_exporter": "python",
   "pygments_lexer": "ipython3",
   "version": "3.12.3"
  }
 },
 "nbformat": 4,
 "nbformat_minor": 2
}
